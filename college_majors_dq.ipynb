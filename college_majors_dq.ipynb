{
 "cells": [
  {
   "cell_type": "markdown",
   "metadata": {},
   "source": [
    "# Exlporing employment data\n",
    "<br>\n",
    "### <center>U.S. Census Bureau dataset cleaned and provided by FiveThirtyEight </center>"
   ]
  },
  {
   "cell_type": "code",
   "execution_count": 1,
   "metadata": {
    "collapsed": true
   },
   "outputs": [],
   "source": [
    "import pandas as pd\n",
    "\n",
    "all_ages = pd.read_csv('./college-majors/all-ages.csv')\n",
    "recent_grads = pd.read_csv('./college-majors/recent-grads.csv')"
   ]
  },
  {
   "cell_type": "code",
   "execution_count": 2,
   "metadata": {},
   "outputs": [
    {
     "name": "stdout",
     "output_type": "stream",
     "text": [
      "\n",
      "All Ages: \n",
      " Index(['Major_code', 'Major', 'Major_category', 'Total', 'Employed',\n",
      "       'Employed_full_time_year_round', 'Unemployed', 'Unemployment_rate',\n",
      "       'Median', 'P25th', 'P75th'],\n",
      "      dtype='object')\n",
      "\n",
      "\n",
      "Recent Grads: \n",
      " Index(['Rank', 'Major_code', 'Major', 'Total', 'Men', 'Women',\n",
      "       'Major_category', 'ShareWomen', 'Sample_size', 'Employed', 'Full_time',\n",
      "       'Part_time', 'Full_time_year_round', 'Unemployed', 'Unemployment_rate',\n",
      "       'Median', 'P25th', 'P75th', 'College_jobs', 'Non_college_jobs',\n",
      "       'Low_wage_jobs'],\n",
      "      dtype='object') \n",
      "\n"
     ]
    }
   ],
   "source": [
    "print(\"\\nAll Ages: \\n\", all_ages.columns)\n",
    "print(\"\\n\\nRecent Grads: \\n\", recent_grads.columns, '\\n')"
   ]
  },
  {
   "cell_type": "code",
   "execution_count": 3,
   "metadata": {},
   "outputs": [
    {
     "data": {
      "text/plain": [
       "array(['Agriculture & Natural Resources', 'Biology & Life Science',\n",
       "       'Engineering', 'Humanities & Liberal Arts',\n",
       "       'Communications & Journalism', 'Computers & Mathematics',\n",
       "       'Industrial Arts & Consumer Services', 'Education',\n",
       "       'Law & Public Policy', 'Interdisciplinary', 'Health',\n",
       "       'Social Science', 'Physical Sciences', 'Psychology & Social Work',\n",
       "       'Arts', 'Business'], dtype=object)"
      ]
     },
     "execution_count": 3,
     "metadata": {},
     "output_type": "execute_result"
    }
   ],
   "source": [
    "aa_maj_cats = all_ages['Major_category'].unique()\n",
    "aa_maj_cats"
   ]
  },
  {
   "cell_type": "markdown",
   "metadata": {},
   "source": [
    "## Sum the total of each Major Category for various All ages and Recent Graduates"
   ]
  },
  {
   "cell_type": "code",
   "execution_count": 4,
   "metadata": {
    "collapsed": true
   },
   "outputs": [],
   "source": [
    "aa_cat_counts = {}\n",
    "rg_cat_counts = {}\n",
    "\n",
    "for val in aa_maj_cats:\n",
    "    total = all_ages['Total'][all_ages['Major_category'] == val].sum()\n",
    "    if val not in aa_cat_counts:\n",
    "        aa_cat_counts[val] = total\n",
    "        \n",
    "# aa_cat_counts"
   ]
  },
  {
   "cell_type": "markdown",
   "metadata": {},
   "source": [
    "<br>\n",
    "<br>\n",
    "<br>\n",
    "## Refactor to a funtion\n",
    "\n",
    "__sum_unique_cats__ accepts a dataframe as the single argument and returns a dictionary with the Major Category as the key and the total graduates in that category as the value.\n",
    "<br>\n",
    "<br>"
   ]
  },
  {
   "cell_type": "code",
   "execution_count": 5,
   "metadata": {
    "collapsed": true
   },
   "outputs": [],
   "source": [
    "def sum_unique_cats(d_frame):\n",
    "    cat_counts = {}\n",
    "    maj_cats = d_frame['Major_category'].unique()\n",
    "    for val in maj_cats:\n",
    "        total = d_frame['Total'][d_frame['Major_category'] == val].sum()\n",
    "        if val not in cat_counts:\n",
    "            cat_counts[val] = total\n",
    "    return cat_counts"
   ]
  },
  {
   "cell_type": "code",
   "execution_count": 6,
   "metadata": {},
   "outputs": [
    {
     "data": {
      "text/plain": [
       "{'Agriculture & Natural Resources': 632437,\n",
       " 'Arts': 1805865,\n",
       " 'Biology & Life Science': 1338186,\n",
       " 'Business': 9858741,\n",
       " 'Communications & Journalism': 1803822,\n",
       " 'Computers & Mathematics': 1781378,\n",
       " 'Education': 4700118,\n",
       " 'Engineering': 3576013,\n",
       " 'Health': 2950859,\n",
       " 'Humanities & Liberal Arts': 3738335,\n",
       " 'Industrial Arts & Consumer Services': 1033798,\n",
       " 'Interdisciplinary': 45199,\n",
       " 'Law & Public Policy': 902926,\n",
       " 'Physical Sciences': 1025318,\n",
       " 'Psychology & Social Work': 1987278,\n",
       " 'Social Science': 2654125}"
      ]
     },
     "execution_count": 6,
     "metadata": {},
     "output_type": "execute_result"
    }
   ],
   "source": [
    "sum_unique_cats(all_ages)"
   ]
  },
  {
   "cell_type": "code",
   "execution_count": 7,
   "metadata": {},
   "outputs": [
    {
     "data": {
      "text/plain": [
       "{'Agriculture & Natural Resources': 75620.0,\n",
       " 'Arts': 357130.0,\n",
       " 'Biology & Life Science': 453862.0,\n",
       " 'Business': 1302376.0,\n",
       " 'Communications & Journalism': 392601.0,\n",
       " 'Computers & Mathematics': 299008.0,\n",
       " 'Education': 559129.0,\n",
       " 'Engineering': 537583.0,\n",
       " 'Health': 463230.0,\n",
       " 'Humanities & Liberal Arts': 713468.0,\n",
       " 'Industrial Arts & Consumer Services': 229792.0,\n",
       " 'Interdisciplinary': 12296.0,\n",
       " 'Law & Public Policy': 179107.0,\n",
       " 'Physical Sciences': 185479.0,\n",
       " 'Psychology & Social Work': 481007.0,\n",
       " 'Social Science': 529966.0}"
      ]
     },
     "execution_count": 7,
     "metadata": {},
     "output_type": "execute_result"
    }
   ],
   "source": [
    "sum_unique_cats(recent_grads)"
   ]
  },
  {
   "cell_type": "markdown",
   "metadata": {},
   "source": [
    "### A pivot table can provide the same data with less logic required"
   ]
  },
  {
   "cell_type": "code",
   "execution_count": 8,
   "metadata": {},
   "outputs": [
    {
     "data": {
      "text/html": [
       "<div>\n",
       "<style>\n",
       "    .dataframe thead tr:only-child th {\n",
       "        text-align: right;\n",
       "    }\n",
       "\n",
       "    .dataframe thead th {\n",
       "        text-align: left;\n",
       "    }\n",
       "\n",
       "    .dataframe tbody tr th {\n",
       "        vertical-align: top;\n",
       "    }\n",
       "</style>\n",
       "<table border=\"1\" class=\"dataframe\">\n",
       "  <thead>\n",
       "    <tr style=\"text-align: right;\">\n",
       "      <th></th>\n",
       "      <th>Total</th>\n",
       "    </tr>\n",
       "    <tr>\n",
       "      <th>Major_category</th>\n",
       "      <th></th>\n",
       "    </tr>\n",
       "  </thead>\n",
       "  <tbody>\n",
       "    <tr>\n",
       "      <th>Agriculture &amp; Natural Resources</th>\n",
       "      <td>632437</td>\n",
       "    </tr>\n",
       "    <tr>\n",
       "      <th>Arts</th>\n",
       "      <td>1805865</td>\n",
       "    </tr>\n",
       "    <tr>\n",
       "      <th>Biology &amp; Life Science</th>\n",
       "      <td>1338186</td>\n",
       "    </tr>\n",
       "    <tr>\n",
       "      <th>Business</th>\n",
       "      <td>9858741</td>\n",
       "    </tr>\n",
       "    <tr>\n",
       "      <th>Communications &amp; Journalism</th>\n",
       "      <td>1803822</td>\n",
       "    </tr>\n",
       "    <tr>\n",
       "      <th>Computers &amp; Mathematics</th>\n",
       "      <td>1781378</td>\n",
       "    </tr>\n",
       "    <tr>\n",
       "      <th>Education</th>\n",
       "      <td>4700118</td>\n",
       "    </tr>\n",
       "    <tr>\n",
       "      <th>Engineering</th>\n",
       "      <td>3576013</td>\n",
       "    </tr>\n",
       "    <tr>\n",
       "      <th>Health</th>\n",
       "      <td>2950859</td>\n",
       "    </tr>\n",
       "    <tr>\n",
       "      <th>Humanities &amp; Liberal Arts</th>\n",
       "      <td>3738335</td>\n",
       "    </tr>\n",
       "    <tr>\n",
       "      <th>Industrial Arts &amp; Consumer Services</th>\n",
       "      <td>1033798</td>\n",
       "    </tr>\n",
       "    <tr>\n",
       "      <th>Interdisciplinary</th>\n",
       "      <td>45199</td>\n",
       "    </tr>\n",
       "    <tr>\n",
       "      <th>Law &amp; Public Policy</th>\n",
       "      <td>902926</td>\n",
       "    </tr>\n",
       "    <tr>\n",
       "      <th>Physical Sciences</th>\n",
       "      <td>1025318</td>\n",
       "    </tr>\n",
       "    <tr>\n",
       "      <th>Psychology &amp; Social Work</th>\n",
       "      <td>1987278</td>\n",
       "    </tr>\n",
       "    <tr>\n",
       "      <th>Social Science</th>\n",
       "      <td>2654125</td>\n",
       "    </tr>\n",
       "  </tbody>\n",
       "</table>\n",
       "</div>"
      ],
      "text/plain": [
       "                                       Total\n",
       "Major_category                              \n",
       "Agriculture & Natural Resources       632437\n",
       "Arts                                 1805865\n",
       "Biology & Life Science               1338186\n",
       "Business                             9858741\n",
       "Communications & Journalism          1803822\n",
       "Computers & Mathematics              1781378\n",
       "Education                            4700118\n",
       "Engineering                          3576013\n",
       "Health                               2950859\n",
       "Humanities & Liberal Arts            3738335\n",
       "Industrial Arts & Consumer Services  1033798\n",
       "Interdisciplinary                      45199\n",
       "Law & Public Policy                   902926\n",
       "Physical Sciences                    1025318\n",
       "Psychology & Social Work             1987278\n",
       "Social Science                       2654125"
      ]
     },
     "execution_count": 8,
     "metadata": {},
     "output_type": "execute_result"
    }
   ],
   "source": [
    "import numpy as np\n",
    "\n",
    "aa_count = all_ages.pivot_table(index='Major_category', values='Total', aggfunc=np.sum)\n",
    "rg_count = recent_grads.pivot_table(index='Major_category', values='Total', aggfunc=np.sum)\n",
    "aa_count"
   ]
  },
  {
   "cell_type": "markdown",
   "metadata": {},
   "source": [
    "# Calculates the proportion of recent grauates with low wage jobs"
   ]
  },
  {
   "cell_type": "code",
   "execution_count": 9,
   "metadata": {},
   "outputs": [
    {
     "data": {
      "text/plain": [
       "0.09858891195563152"
      ]
     },
     "execution_count": 9,
     "metadata": {},
     "output_type": "execute_result"
    }
   ],
   "source": [
    "low_wage_proportion = recent_grads['Low_wage_jobs'].sum() / recent_grads['Total'].sum()\n",
    "low_wage_proportion"
   ]
  },
  {
   "cell_type": "markdown",
   "metadata": {
    "variables": {
     "low_wage_proportion * 100": "9.858891195563151",
     "low_wage_proportion-*-100": "<p><strong>SyntaxError</strong>: invalid syntax (<ipython-input-10-48cf088b21de>, line 1)</p>\n"
    }
   },
   "source": [
    "### The proportion of recent graduates with low-wage employment is approximately {{low_wage_proportion * 100}}%"
   ]
  },
  {
   "cell_type": "markdown",
   "metadata": {},
   "source": [
    "# Comparing unemployment rate of recent graduates to all ages by major"
   ]
  },
  {
   "cell_type": "code",
   "execution_count": 38,
   "metadata": {},
   "outputs": [
    {
     "name": "stdout",
     "output_type": "stream",
     "text": [
      "44\n"
     ]
    }
   ],
   "source": [
    "majors = recent_grads['Major'].unique()\n",
    "rg_lower_count = 0\n",
    "\n",
    "for major in majors:\n",
    "    rg_check_row = recent_grads[recent_grads['Major'] == major]\n",
    "    aa_check_row = all_ages[all_ages['Major'] == major]\n",
    "\n",
    "    if rg_check_row.iloc[0]['Unemployment_rate'] < aa_check_row.iloc[0]['Unemployment_rate']:\n",
    "        rg_lower_count += 1\n",
    "\n",
    "print(rg_lower_count)"
   ]
  },
  {
   "cell_type": "markdown",
   "metadata": {
    "variables": {
     "rg_lower_count": "44"
    }
   },
   "source": [
    "### Of 173 comparable major fields of study, {{rg_lower_count}} majors produced recent graduates with lower unemployment rates than the general population."
   ]
  },
  {
   "cell_type": "code",
   "execution_count": null,
   "metadata": {
    "collapsed": true
   },
   "outputs": [],
   "source": []
  },
  {
   "cell_type": "code",
   "execution_count": null,
   "metadata": {
    "collapsed": true
   },
   "outputs": [],
   "source": []
  }
 ],
 "metadata": {
  "kernelspec": {
   "display_name": "Python 3",
   "language": "python",
   "name": "python3"
  },
  "language_info": {
   "codemirror_mode": {
    "name": "ipython",
    "version": 3
   },
   "file_extension": ".py",
   "mimetype": "text/x-python",
   "name": "python",
   "nbconvert_exporter": "python",
   "pygments_lexer": "ipython3",
   "version": "3.6.1"
  }
 },
 "nbformat": 4,
 "nbformat_minor": 2
}
